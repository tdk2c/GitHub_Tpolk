{
 "cells": [
  {
   "cell_type": "markdown",
   "id": "bb75b37f",
   "metadata": {},
   "source": [
    "# INDEPENDENT CHI SQUARE"
   ]
  },
  {
   "cell_type": "markdown",
   "id": "a5d4f326",
   "metadata": {},
   "source": [
    "# Import Packages"
   ]
  },
  {
   "cell_type": "code",
   "execution_count": 100,
   "id": "1a746ef5",
   "metadata": {},
   "outputs": [
    {
     "name": "stdout",
     "output_type": "stream",
     "text": [
      "Setup Complete\n"
     ]
    }
   ],
   "source": [
    "import pandas as pd\n",
    "import scipy, scipy.stats\n",
    "from scipy.stats import norm\n",
    "from scipy import stats\n",
    "from sklearn.model_selection import train_test_split\n",
    "import numpy as np\n",
    "from statsmodels.stats.proportion import proportions_ztest\n",
    "import statsmodels as sm\n",
    "from statsmodels.stats.contingency_tables import mcnemar#\n",
    "import seaborn\n",
    "import matplotlib.pyplot as mp\n",
    "import pandas as pd\n",
    "import seaborn as sb\n",
    "pd.plotting.register_matplotlib_converters()\n",
    "import matplotlib.pyplot as plt\n",
    "%matplotlib inline\n",
    "import seaborn as sns\n",
    "import pandas as pd\n",
    "import matplotlib.pyplot as plt\n",
    "import seaborn as sns\n",
    "print(\"Setup Complete\")"
   ]
  },
  {
   "cell_type": "markdown",
   "id": "a8191a67",
   "metadata": {},
   "source": [
    "# Load Data"
   ]
  },
  {
   "cell_type": "code",
   "execution_count": 101,
   "id": "28493026",
   "metadata": {},
   "outputs": [
    {
     "data": {
      "text/html": [
       "<div>\n",
       "<style scoped>\n",
       "    .dataframe tbody tr th:only-of-type {\n",
       "        vertical-align: middle;\n",
       "    }\n",
       "\n",
       "    .dataframe tbody tr th {\n",
       "        vertical-align: top;\n",
       "    }\n",
       "\n",
       "    .dataframe thead th {\n",
       "        text-align: right;\n",
       "    }\n",
       "</style>\n",
       "<table border=\"1\" class=\"dataframe\">\n",
       "  <thead>\n",
       "    <tr style=\"text-align: right;\">\n",
       "      <th></th>\n",
       "      <th>S. No.</th>\n",
       "      <th>Timestamp</th>\n",
       "      <th>GAD1</th>\n",
       "      <th>GAD2</th>\n",
       "      <th>GAD3</th>\n",
       "      <th>GAD4</th>\n",
       "      <th>GAD5</th>\n",
       "      <th>GAD6</th>\n",
       "      <th>GAD7</th>\n",
       "      <th>GADE</th>\n",
       "      <th>...</th>\n",
       "      <th>Birthplace</th>\n",
       "      <th>Residence</th>\n",
       "      <th>Reference</th>\n",
       "      <th>Playstyle</th>\n",
       "      <th>accept</th>\n",
       "      <th>GAD_T</th>\n",
       "      <th>SWL_T</th>\n",
       "      <th>SPIN_T</th>\n",
       "      <th>Residence_ISO3</th>\n",
       "      <th>Birthplace_ISO3</th>\n",
       "    </tr>\n",
       "  </thead>\n",
       "  <tbody>\n",
       "    <tr>\n",
       "      <th>0</th>\n",
       "      <td>1</td>\n",
       "      <td>42052.00437</td>\n",
       "      <td>0</td>\n",
       "      <td>0</td>\n",
       "      <td>0</td>\n",
       "      <td>0</td>\n",
       "      <td>1</td>\n",
       "      <td>0</td>\n",
       "      <td>0</td>\n",
       "      <td>Not difficult at all</td>\n",
       "      <td>...</td>\n",
       "      <td>USA</td>\n",
       "      <td>USA</td>\n",
       "      <td>Reddit</td>\n",
       "      <td>Singleplayer</td>\n",
       "      <td>Accept</td>\n",
       "      <td>1</td>\n",
       "      <td>23</td>\n",
       "      <td>5.0</td>\n",
       "      <td>USA</td>\n",
       "      <td>USA</td>\n",
       "    </tr>\n",
       "    <tr>\n",
       "      <th>1</th>\n",
       "      <td>2</td>\n",
       "      <td>42052.00680</td>\n",
       "      <td>1</td>\n",
       "      <td>2</td>\n",
       "      <td>2</td>\n",
       "      <td>2</td>\n",
       "      <td>0</td>\n",
       "      <td>1</td>\n",
       "      <td>0</td>\n",
       "      <td>Somewhat difficult</td>\n",
       "      <td>...</td>\n",
       "      <td>USA</td>\n",
       "      <td>USA</td>\n",
       "      <td>Reddit</td>\n",
       "      <td>Multiplayer - online - with strangers</td>\n",
       "      <td>Accept</td>\n",
       "      <td>8</td>\n",
       "      <td>16</td>\n",
       "      <td>33.0</td>\n",
       "      <td>USA</td>\n",
       "      <td>USA</td>\n",
       "    </tr>\n",
       "    <tr>\n",
       "      <th>2</th>\n",
       "      <td>3</td>\n",
       "      <td>42052.03860</td>\n",
       "      <td>0</td>\n",
       "      <td>2</td>\n",
       "      <td>2</td>\n",
       "      <td>0</td>\n",
       "      <td>0</td>\n",
       "      <td>3</td>\n",
       "      <td>1</td>\n",
       "      <td>Not difficult at all</td>\n",
       "      <td>...</td>\n",
       "      <td>Germany</td>\n",
       "      <td>Germany</td>\n",
       "      <td>Reddit</td>\n",
       "      <td>Singleplayer</td>\n",
       "      <td>Accept</td>\n",
       "      <td>8</td>\n",
       "      <td>17</td>\n",
       "      <td>31.0</td>\n",
       "      <td>DEU</td>\n",
       "      <td>DEU</td>\n",
       "    </tr>\n",
       "    <tr>\n",
       "      <th>3</th>\n",
       "      <td>4</td>\n",
       "      <td>42052.06804</td>\n",
       "      <td>0</td>\n",
       "      <td>0</td>\n",
       "      <td>0</td>\n",
       "      <td>0</td>\n",
       "      <td>0</td>\n",
       "      <td>0</td>\n",
       "      <td>0</td>\n",
       "      <td>Not difficult at all</td>\n",
       "      <td>...</td>\n",
       "      <td>USA</td>\n",
       "      <td>USA</td>\n",
       "      <td>Reddit</td>\n",
       "      <td>Multiplayer - online - with online acquaintanc...</td>\n",
       "      <td>Accept</td>\n",
       "      <td>0</td>\n",
       "      <td>17</td>\n",
       "      <td>11.0</td>\n",
       "      <td>USA</td>\n",
       "      <td>USA</td>\n",
       "    </tr>\n",
       "    <tr>\n",
       "      <th>4</th>\n",
       "      <td>5</td>\n",
       "      <td>42052.08948</td>\n",
       "      <td>2</td>\n",
       "      <td>1</td>\n",
       "      <td>2</td>\n",
       "      <td>2</td>\n",
       "      <td>2</td>\n",
       "      <td>3</td>\n",
       "      <td>2</td>\n",
       "      <td>Very difficult</td>\n",
       "      <td>...</td>\n",
       "      <td>USA</td>\n",
       "      <td>South Korea</td>\n",
       "      <td>Reddit</td>\n",
       "      <td>Multiplayer - online - with strangers</td>\n",
       "      <td>Accept</td>\n",
       "      <td>14</td>\n",
       "      <td>14</td>\n",
       "      <td>13.0</td>\n",
       "      <td>KOR</td>\n",
       "      <td>USA</td>\n",
       "    </tr>\n",
       "  </tbody>\n",
       "</table>\n",
       "<p>5 rows × 56 columns</p>\n",
       "</div>"
      ],
      "text/plain": [
       "   S. No.    Timestamp  GAD1  GAD2  GAD3  GAD4  GAD5  GAD6  GAD7  \\\n",
       "0       1  42052.00437     0     0     0     0     1     0     0   \n",
       "1       2  42052.00680     1     2     2     2     0     1     0   \n",
       "2       3  42052.03860     0     2     2     0     0     3     1   \n",
       "3       4  42052.06804     0     0     0     0     0     0     0   \n",
       "4       5  42052.08948     2     1     2     2     2     3     2   \n",
       "\n",
       "                   GADE  ...  Birthplace    Residence  Reference  \\\n",
       "0  Not difficult at all  ...         USA          USA     Reddit   \n",
       "1    Somewhat difficult  ...         USA          USA     Reddit   \n",
       "2  Not difficult at all  ...     Germany      Germany     Reddit   \n",
       "3  Not difficult at all  ...         USA          USA     Reddit   \n",
       "4        Very difficult  ...         USA  South Korea     Reddit   \n",
       "\n",
       "                                           Playstyle  accept  GAD_T SWL_T  \\\n",
       "0                                       Singleplayer  Accept      1    23   \n",
       "1              Multiplayer - online - with strangers  Accept      8    16   \n",
       "2                                       Singleplayer  Accept      8    17   \n",
       "3  Multiplayer - online - with online acquaintanc...  Accept      0    17   \n",
       "4              Multiplayer - online - with strangers  Accept     14    14   \n",
       "\n",
       "  SPIN_T  Residence_ISO3 Birthplace_ISO3  \n",
       "0    5.0             USA             USA  \n",
       "1   33.0             USA             USA  \n",
       "2   31.0             DEU             DEU  \n",
       "3   11.0             USA             USA  \n",
       "4   13.0             KOR             USA  \n",
       "\n",
       "[5 rows x 56 columns]"
      ]
     },
     "execution_count": 101,
     "metadata": {},
     "output_type": "execute_result"
    }
   ],
   "source": [
    "GamingStudy = pd.read_excel('C:/Users/Tasha/iCloudDrive/Entity Academy_/DSO103C - Metrics and Data Processing/Final Project/GamingStudy_data.csv (Online Gaming Anxiety Data)/GamingStudy_data_mod.xlsx')\n",
    "GamingStudy.head()"
   ]
  },
  {
   "cell_type": "code",
   "execution_count": 102,
   "id": "9378a92f",
   "metadata": {},
   "outputs": [
    {
     "name": "stdout",
     "output_type": "stream",
     "text": [
      "<class 'pandas.core.frame.DataFrame'>\n",
      "RangeIndex: 13464 entries, 0 to 13463\n",
      "Data columns (total 56 columns):\n",
      " #   Column           Non-Null Count  Dtype  \n",
      "---  ------           --------------  -----  \n",
      " 0   S. No.           13464 non-null  int64  \n",
      " 1   Timestamp        13464 non-null  float64\n",
      " 2   GAD1             13464 non-null  int64  \n",
      " 3   GAD2             13464 non-null  int64  \n",
      " 4   GAD3             13464 non-null  int64  \n",
      " 5   GAD4             13464 non-null  int64  \n",
      " 6   GAD5             13464 non-null  int64  \n",
      " 7   GAD6             13464 non-null  int64  \n",
      " 8   GAD7             13464 non-null  int64  \n",
      " 9   GADE             12815 non-null  object \n",
      " 10  GADE no.         13464 non-null  int64  \n",
      " 11  SWL1             13464 non-null  int64  \n",
      " 12  SWL2             13464 non-null  int64  \n",
      " 13  SWL3             13464 non-null  int64  \n",
      " 14  SWL4             13464 non-null  int64  \n",
      " 15  SWL5             13464 non-null  int64  \n",
      " 16  Game             13464 non-null  object \n",
      " 17  Platform         13464 non-null  object \n",
      " 18  Hours            13434 non-null  float64\n",
      " 19  earnings         13464 non-null  object \n",
      " 20  whyplay          13464 non-null  object \n",
      " 21  League           11626 non-null  object \n",
      " 22  highestleague    0 non-null      float64\n",
      " 23  streams          13364 non-null  float64\n",
      " 24  SPIN1            13340 non-null  float64\n",
      " 25  SPIN2            13310 non-null  float64\n",
      " 26  SPIN3            13324 non-null  float64\n",
      " 27  SPIN4            13305 non-null  float64\n",
      " 28  SPIN5            13298 non-null  float64\n",
      " 29  SPIN6            13308 non-null  float64\n",
      " 30  SPIN7            13326 non-null  float64\n",
      " 31  SPIN8            13320 non-null  float64\n",
      " 32  SPIN9            13306 non-null  float64\n",
      " 33  SPIN10           13304 non-null  float64\n",
      " 34  SPIN11           13277 non-null  float64\n",
      " 35  SPIN12           13296 non-null  float64\n",
      " 36  SPIN13           13277 non-null  float64\n",
      " 37  SPIN14           13308 non-null  float64\n",
      " 38  SPIN15           13317 non-null  float64\n",
      " 39  SPIN16           13317 non-null  float64\n",
      " 40  SPIN17           13289 non-null  float64\n",
      " 41  Narcissism       13441 non-null  float64\n",
      " 42  Gender           13464 non-null  object \n",
      " 43  Age              13464 non-null  int64  \n",
      " 44  Work             13426 non-null  object \n",
      " 45  Degree           13464 non-null  object \n",
      " 46  Birthplace       13464 non-null  object \n",
      " 47  Residence        13464 non-null  object \n",
      " 48  Reference        13449 non-null  object \n",
      " 49  Playstyle        13464 non-null  object \n",
      " 50  accept           13050 non-null  object \n",
      " 51  GAD_T            13464 non-null  int64  \n",
      " 52  SWL_T            13464 non-null  int64  \n",
      " 53  SPIN_T           12814 non-null  float64\n",
      " 54  Residence_ISO3   13354 non-null  object \n",
      " 55  Birthplace_ISO3  13343 non-null  object \n",
      "dtypes: float64(23), int64(17), object(16)\n",
      "memory usage: 5.8+ MB\n"
     ]
    }
   ],
   "source": [
    "GamingStudy.info()"
   ]
  },
  {
   "cell_type": "markdown",
   "id": "caa217e0",
   "metadata": {},
   "source": [
    "# Data Wrangling: Recode & Drop Columns"
   ]
  },
  {
   "cell_type": "markdown",
   "id": "0d921c38",
   "metadata": {},
   "source": [
    "# Recode age"
   ]
  },
  {
   "cell_type": "code",
   "execution_count": 103,
   "id": "130d459a",
   "metadata": {},
   "outputs": [
    {
     "data": {
      "text/plain": [
       "Twenty-Five - Thirty yrs     852\n",
       "Thirty-One yrs and up        836\n",
       "Fifteen - Nineteen yrs      5747\n",
       "Twenty - Twenty-Four yrs    6029\n",
       "Name: Age Groups, dtype: int64"
      ]
     },
     "execution_count": 103,
     "metadata": {},
     "output_type": "execute_result"
    }
   ],
   "source": [
    "def age_groups(series):\n",
    "    if series < 20:\n",
    "        return \"Fifteen - Nineteen yrs\"\n",
    "    if series > 26:\n",
    "        return \"Thirty-One yrs and up\"\n",
    "    elif 20 <= series < 25:\n",
    "        return \"Twenty - Twenty-Four yrs\"\n",
    "    elif 25 <= series:\n",
    "        return \"Twenty-Five - Thirty yrs\"\n",
    "    \n",
    "GamingStudy['Age Groups'] = GamingStudy['Age'].apply(age_groups)\n",
    "\n",
    "GamingStudy['Age Groups'].value_counts(sort=False)\n"
   ]
  },
  {
   "cell_type": "markdown",
   "id": "065819a2",
   "metadata": {},
   "source": [
    "# Recode hours"
   ]
  },
  {
   "cell_type": "code",
   "execution_count": 104,
   "id": "347e57ce",
   "metadata": {},
   "outputs": [
    {
     "data": {
      "text/plain": [
       "Thirteen to Twenty-Three    5338\n",
       "Twelve hours or less        3549\n",
       "Twenty-Four hrs or more     4577\n",
       "Name: HoursPlayed, dtype: int64"
      ]
     },
     "execution_count": 104,
     "metadata": {},
     "output_type": "execute_result"
    }
   ],
   "source": [
    "def HoursPlayed(series):\n",
    "    if series <= 12:\n",
    "        return \"Twelve hours or less\"\n",
    "    if series >= 24:\n",
    "        return \"Twenty-Four hrs or more\"\n",
    "    else:\n",
    "        return \"Thirteen to Twenty-Three\"\n",
    "GamingStudy['HoursPlayed'] = GamingStudy['Hours'].apply(HoursPlayed)\n",
    "\n",
    "GamingStudy['HoursPlayed'].value_counts(sort=False)\n"
   ]
  },
  {
   "cell_type": "markdown",
   "id": "eb502234",
   "metadata": {},
   "source": [
    "# Recode GAD_T, SWL_T, & SPIN_T"
   ]
  },
  {
   "cell_type": "code",
   "execution_count": 105,
   "id": "e02f81ae",
   "metadata": {},
   "outputs": [
    {
     "data": {
      "text/plain": [
       "Mild Anxiety        8470\n",
       "Severe Anxiety      2642\n",
       "Moderate Anxiety    2352\n",
       "Name: Anxiety_Level, dtype: int64"
      ]
     },
     "execution_count": 105,
     "metadata": {},
     "output_type": "execute_result"
    }
   ],
   "source": [
    "# 5, 10, and 15 might be interpreted as representing mild, moderate, and severe levels of anxiety\n",
    "def Anxiety_Level(series): \n",
    "    if series <= 5:\n",
    "        return \"Mild Anxiety\"\n",
    "    if series >= 10:\n",
    "        return \"Moderate Anxiety\"\n",
    "    else:\n",
    "        return \"Severe Anxiety\"\n",
    "GamingStudy['Anxiety_Level'] = GamingStudy['GAD_T'].apply(Anxiety_Level)\n",
    "GamingStudy['Anxiety_Level'].value_counts(sort=False)"
   ]
  },
  {
   "cell_type": "code",
   "execution_count": 106,
   "id": "c04f3dc5",
   "metadata": {},
   "outputs": [
    {
     "data": {
      "text/plain": [
       "Neutral or slightly satisfied    3594\n",
       "Slightly Dissatisfied            2940\n",
       "Dissatisfied                     2384\n",
       "Satisfied                        2535\n",
       "Extremely satisfied               851\n",
       "Extremely Dissatisfied           1160\n",
       "Name: Life_satisfaction, dtype: int64"
      ]
     },
     "execution_count": 106,
     "metadata": {},
     "output_type": "execute_result"
    }
   ],
   "source": [
    "# Greater life satisfaction: \n",
    "# The following cutoffs can be used as benchmarks for interpreting scores: \n",
    "# 31–35 extremely satisfied, \n",
    "# 26–30 satisfied, \n",
    "# 20–25 neutral or slightly satisfied, \n",
    "# 15–19 slightly dissatisfied, \n",
    "# 10–14 dissatisfied, and \n",
    "# 5–9 extremely dissatisfied\n",
    "\n",
    "\n",
    "def Life_satisfaction(series):\n",
    "    if series <=9:\n",
    "        return \"Extremely Dissatisfied\"\n",
    "    if series ==10:\n",
    "        return \"Dissatisfied\"\n",
    "    if series ==11:\n",
    "        return \"Dissatisfied\"\n",
    "    if series ==12:\n",
    "        return \"Dissatisfied\"\n",
    "    if series ==13:\n",
    "        return \"Dissatisfied\"\n",
    "    if series ==14:\n",
    "        return \"Dissatisfied\"\n",
    "    if series ==15:\n",
    "        return \"Slightly Dissatisfied\"\n",
    "    if series ==16:\n",
    "        return \"Slightly Dissatisfied\"\n",
    "    if series ==17:\n",
    "        return \"Slightly Dissatisfied\"\n",
    "    if series ==18:\n",
    "        return \"Slightly Dissatisfied\"\n",
    "    if series ==19:\n",
    "        return \"Slightly Dissatisfied\"\n",
    "    if series ==20:\n",
    "        return \"Neutral or slightly satisfied\"\n",
    "    if series ==21:\n",
    "        return \"Neutral or slightly satisfied\"\n",
    "    if series ==22:\n",
    "        return \"Neutral or slightly satisfied\"\n",
    "    if series ==23:\n",
    "        return \"Neutral or slightly satisfied\"\n",
    "    if series ==24:\n",
    "        return \"Neutral or slightly satisfied\"\n",
    "    if series ==25:\n",
    "        return \"Neutral or slightly satisfied\"  \n",
    "    if series ==26:\n",
    "        return \"Satisfied\"\n",
    "    if series ==27:\n",
    "        return \"Satisfied\"\n",
    "    if series ==28:\n",
    "        return \"Satisfied\"\n",
    "    if series ==29:\n",
    "        return \"Satisfied\"\n",
    "    if series ==30:\n",
    "        return \"Satisfied\"\n",
    "    else:\n",
    "        return \"Extremely satisfied\"\n",
    "    \n",
    "GamingStudy['Life_satisfaction'] = GamingStudy['SWL_T'].apply(Life_satisfaction)\n",
    "GamingStudy['Life_satisfaction'].value_counts(sort=False)\n"
   ]
  },
  {
   "cell_type": "code",
   "execution_count": 107,
   "id": "051a5f2f",
   "metadata": {},
   "outputs": [
    {
     "data": {
      "text/plain": [
       "Mild social phobia    10135\n",
       "Moderate               2679\n",
       "Very severe             650\n",
       "Name: SocialPhobia, dtype: int64"
      ]
     },
     "execution_count": 107,
     "metadata": {},
     "output_type": "execute_result"
    }
   ],
   "source": [
    "# (Social phobia inventory (SPIN) A SPIN score of 21-30 indicates mild social phobia, 31-40 (moderate), 41-50 (severe) and above 50 (very severe))\n",
    "def SocialPhobia(series):\n",
    "    if series <=30:\n",
    "        return \"Mild social phobia\"\n",
    "    if series >=31:\n",
    "        return \"Moderate\"\n",
    "    if series >=41:\n",
    "        return \"Severe\"\n",
    "    else:\n",
    "        return \"Very severe\"\n",
    "    \n",
    "GamingStudy['SocialPhobia'] = GamingStudy['SPIN_T'].apply(SocialPhobia)\n",
    "GamingStudy['SocialPhobia'].value_counts(sort=False)\n"
   ]
  },
  {
   "cell_type": "markdown",
   "id": "4581c9f5",
   "metadata": {},
   "source": [
    "# Drop columns not using in analysis"
   ]
  },
  {
   "cell_type": "code",
   "execution_count": 108,
   "id": "4de664ea",
   "metadata": {},
   "outputs": [],
   "source": [
    "GamingStudy1 = GamingStudy.drop(['S. No.','Timestamp','GAD1','GAD2','GAD3','GAD4','GAD5','GAD6','GAD7','SWL1','SWL2','SWL3','SWL4','SWL5','Game','Platform','League','highestleague','streams','SPIN1','SPIN2','SPIN3','SPIN4','SPIN5','SPIN6','SPIN7','SPIN8','SPIN9','SPIN10','SPIN11','SPIN12','SPIN13','SPIN14','SPIN15','SPIN16','SPIN17','Narcissism','Degree','Birthplace','Reference','Playstyle','accept','Residence_ISO3','Birthplace_ISO3','GAD_T','SWL_T','SPIN_T'], axis=1) "
   ]
  },
  {
   "cell_type": "code",
   "execution_count": 109,
   "id": "b256002a",
   "metadata": {},
   "outputs": [
    {
     "data": {
      "text/html": [
       "<div>\n",
       "<style scoped>\n",
       "    .dataframe tbody tr th:only-of-type {\n",
       "        vertical-align: middle;\n",
       "    }\n",
       "\n",
       "    .dataframe tbody tr th {\n",
       "        vertical-align: top;\n",
       "    }\n",
       "\n",
       "    .dataframe thead th {\n",
       "        text-align: right;\n",
       "    }\n",
       "</style>\n",
       "<table border=\"1\" class=\"dataframe\">\n",
       "  <thead>\n",
       "    <tr style=\"text-align: right;\">\n",
       "      <th></th>\n",
       "      <th>GADE</th>\n",
       "      <th>GADE no.</th>\n",
       "      <th>Hours</th>\n",
       "      <th>earnings</th>\n",
       "      <th>whyplay</th>\n",
       "      <th>Gender</th>\n",
       "      <th>Age</th>\n",
       "      <th>Work</th>\n",
       "      <th>Residence</th>\n",
       "      <th>Age Groups</th>\n",
       "      <th>HoursPlayed</th>\n",
       "      <th>Anxiety_Level</th>\n",
       "      <th>Life_satisfaction</th>\n",
       "      <th>SocialPhobia</th>\n",
       "    </tr>\n",
       "  </thead>\n",
       "  <tbody>\n",
       "    <tr>\n",
       "      <th>0</th>\n",
       "      <td>Not difficult at all</td>\n",
       "      <td>2</td>\n",
       "      <td>15.0</td>\n",
       "      <td>I play for fun</td>\n",
       "      <td>having fun</td>\n",
       "      <td>Male</td>\n",
       "      <td>25</td>\n",
       "      <td>Unemployed / between jobs</td>\n",
       "      <td>USA</td>\n",
       "      <td>Twenty-Five - Thirty yrs</td>\n",
       "      <td>Thirteen to Twenty-Three</td>\n",
       "      <td>Mild Anxiety</td>\n",
       "      <td>Neutral or slightly satisfied</td>\n",
       "      <td>Mild social phobia</td>\n",
       "    </tr>\n",
       "    <tr>\n",
       "      <th>1</th>\n",
       "      <td>Somewhat difficult</td>\n",
       "      <td>3</td>\n",
       "      <td>8.0</td>\n",
       "      <td>I play for fun</td>\n",
       "      <td>having fun</td>\n",
       "      <td>Male</td>\n",
       "      <td>41</td>\n",
       "      <td>Unemployed / between jobs</td>\n",
       "      <td>USA</td>\n",
       "      <td>Thirty-One yrs and up</td>\n",
       "      <td>Twelve hours or less</td>\n",
       "      <td>Severe Anxiety</td>\n",
       "      <td>Slightly Dissatisfied</td>\n",
       "      <td>Moderate</td>\n",
       "    </tr>\n",
       "    <tr>\n",
       "      <th>2</th>\n",
       "      <td>Not difficult at all</td>\n",
       "      <td>2</td>\n",
       "      <td>0.0</td>\n",
       "      <td>I play for fun</td>\n",
       "      <td>having fun</td>\n",
       "      <td>Female</td>\n",
       "      <td>32</td>\n",
       "      <td>Employed</td>\n",
       "      <td>Germany</td>\n",
       "      <td>Thirty-One yrs and up</td>\n",
       "      <td>Twelve hours or less</td>\n",
       "      <td>Severe Anxiety</td>\n",
       "      <td>Slightly Dissatisfied</td>\n",
       "      <td>Moderate</td>\n",
       "    </tr>\n",
       "    <tr>\n",
       "      <th>3</th>\n",
       "      <td>Not difficult at all</td>\n",
       "      <td>2</td>\n",
       "      <td>20.0</td>\n",
       "      <td>I play for fun</td>\n",
       "      <td>improving</td>\n",
       "      <td>Male</td>\n",
       "      <td>28</td>\n",
       "      <td>Employed</td>\n",
       "      <td>USA</td>\n",
       "      <td>Thirty-One yrs and up</td>\n",
       "      <td>Thirteen to Twenty-Three</td>\n",
       "      <td>Mild Anxiety</td>\n",
       "      <td>Slightly Dissatisfied</td>\n",
       "      <td>Mild social phobia</td>\n",
       "    </tr>\n",
       "    <tr>\n",
       "      <th>4</th>\n",
       "      <td>Very difficult</td>\n",
       "      <td>4</td>\n",
       "      <td>20.0</td>\n",
       "      <td>I play for fun</td>\n",
       "      <td>having fun</td>\n",
       "      <td>Male</td>\n",
       "      <td>19</td>\n",
       "      <td>Employed</td>\n",
       "      <td>South Korea</td>\n",
       "      <td>Fifteen - Nineteen yrs</td>\n",
       "      <td>Thirteen to Twenty-Three</td>\n",
       "      <td>Moderate Anxiety</td>\n",
       "      <td>Dissatisfied</td>\n",
       "      <td>Mild social phobia</td>\n",
       "    </tr>\n",
       "  </tbody>\n",
       "</table>\n",
       "</div>"
      ],
      "text/plain": [
       "                   GADE  GADE no.  Hours        earnings     whyplay  Gender  \\\n",
       "0  Not difficult at all         2   15.0  I play for fun  having fun    Male   \n",
       "1    Somewhat difficult         3    8.0  I play for fun  having fun    Male   \n",
       "2  Not difficult at all         2    0.0  I play for fun  having fun  Female   \n",
       "3  Not difficult at all         2   20.0  I play for fun   improving    Male   \n",
       "4        Very difficult         4   20.0  I play for fun  having fun    Male   \n",
       "\n",
       "   Age                       Work    Residence                Age Groups  \\\n",
       "0   25  Unemployed / between jobs          USA  Twenty-Five - Thirty yrs   \n",
       "1   41  Unemployed / between jobs          USA     Thirty-One yrs and up   \n",
       "2   32                   Employed      Germany     Thirty-One yrs and up   \n",
       "3   28                   Employed          USA     Thirty-One yrs and up   \n",
       "4   19                   Employed  South Korea    Fifteen - Nineteen yrs   \n",
       "\n",
       "                HoursPlayed     Anxiety_Level              Life_satisfaction  \\\n",
       "0  Thirteen to Twenty-Three      Mild Anxiety  Neutral or slightly satisfied   \n",
       "1      Twelve hours or less    Severe Anxiety          Slightly Dissatisfied   \n",
       "2      Twelve hours or less    Severe Anxiety          Slightly Dissatisfied   \n",
       "3  Thirteen to Twenty-Three      Mild Anxiety          Slightly Dissatisfied   \n",
       "4  Thirteen to Twenty-Three  Moderate Anxiety                   Dissatisfied   \n",
       "\n",
       "         SocialPhobia  \n",
       "0  Mild social phobia  \n",
       "1            Moderate  \n",
       "2            Moderate  \n",
       "3  Mild social phobia  \n",
       "4  Mild social phobia  "
      ]
     },
     "execution_count": 109,
     "metadata": {},
     "output_type": "execute_result"
    }
   ],
   "source": [
    "GamingStudy1.head()"
   ]
  },
  {
   "cell_type": "markdown",
   "id": "92c24610",
   "metadata": {},
   "source": [
    "# Remove Missing Values"
   ]
  },
  {
   "cell_type": "code",
   "execution_count": 110,
   "id": "9ac6fc54",
   "metadata": {},
   "outputs": [
    {
     "data": {
      "text/html": [
       "<div>\n",
       "<style scoped>\n",
       "    .dataframe tbody tr th:only-of-type {\n",
       "        vertical-align: middle;\n",
       "    }\n",
       "\n",
       "    .dataframe tbody tr th {\n",
       "        vertical-align: top;\n",
       "    }\n",
       "\n",
       "    .dataframe thead th {\n",
       "        text-align: right;\n",
       "    }\n",
       "</style>\n",
       "<table border=\"1\" class=\"dataframe\">\n",
       "  <thead>\n",
       "    <tr style=\"text-align: right;\">\n",
       "      <th></th>\n",
       "      <th>GADE</th>\n",
       "      <th>GADE no.</th>\n",
       "      <th>Hours</th>\n",
       "      <th>earnings</th>\n",
       "      <th>whyplay</th>\n",
       "      <th>Gender</th>\n",
       "      <th>Age</th>\n",
       "      <th>Work</th>\n",
       "      <th>Residence</th>\n",
       "      <th>Age Groups</th>\n",
       "      <th>HoursPlayed</th>\n",
       "      <th>Anxiety_Level</th>\n",
       "      <th>Life_satisfaction</th>\n",
       "      <th>SocialPhobia</th>\n",
       "    </tr>\n",
       "  </thead>\n",
       "  <tbody>\n",
       "    <tr>\n",
       "      <th>0</th>\n",
       "      <td>Not difficult at all</td>\n",
       "      <td>2</td>\n",
       "      <td>15.0</td>\n",
       "      <td>I play for fun</td>\n",
       "      <td>having fun</td>\n",
       "      <td>Male</td>\n",
       "      <td>25</td>\n",
       "      <td>Unemployed / between jobs</td>\n",
       "      <td>USA</td>\n",
       "      <td>Twenty-Five - Thirty yrs</td>\n",
       "      <td>Thirteen to Twenty-Three</td>\n",
       "      <td>Mild Anxiety</td>\n",
       "      <td>Neutral or slightly satisfied</td>\n",
       "      <td>Mild social phobia</td>\n",
       "    </tr>\n",
       "    <tr>\n",
       "      <th>1</th>\n",
       "      <td>Somewhat difficult</td>\n",
       "      <td>3</td>\n",
       "      <td>8.0</td>\n",
       "      <td>I play for fun</td>\n",
       "      <td>having fun</td>\n",
       "      <td>Male</td>\n",
       "      <td>41</td>\n",
       "      <td>Unemployed / between jobs</td>\n",
       "      <td>USA</td>\n",
       "      <td>Thirty-One yrs and up</td>\n",
       "      <td>Twelve hours or less</td>\n",
       "      <td>Severe Anxiety</td>\n",
       "      <td>Slightly Dissatisfied</td>\n",
       "      <td>Moderate</td>\n",
       "    </tr>\n",
       "    <tr>\n",
       "      <th>2</th>\n",
       "      <td>Not difficult at all</td>\n",
       "      <td>2</td>\n",
       "      <td>0.0</td>\n",
       "      <td>I play for fun</td>\n",
       "      <td>having fun</td>\n",
       "      <td>Female</td>\n",
       "      <td>32</td>\n",
       "      <td>Employed</td>\n",
       "      <td>Germany</td>\n",
       "      <td>Thirty-One yrs and up</td>\n",
       "      <td>Twelve hours or less</td>\n",
       "      <td>Severe Anxiety</td>\n",
       "      <td>Slightly Dissatisfied</td>\n",
       "      <td>Moderate</td>\n",
       "    </tr>\n",
       "    <tr>\n",
       "      <th>3</th>\n",
       "      <td>Not difficult at all</td>\n",
       "      <td>2</td>\n",
       "      <td>20.0</td>\n",
       "      <td>I play for fun</td>\n",
       "      <td>improving</td>\n",
       "      <td>Male</td>\n",
       "      <td>28</td>\n",
       "      <td>Employed</td>\n",
       "      <td>USA</td>\n",
       "      <td>Thirty-One yrs and up</td>\n",
       "      <td>Thirteen to Twenty-Three</td>\n",
       "      <td>Mild Anxiety</td>\n",
       "      <td>Slightly Dissatisfied</td>\n",
       "      <td>Mild social phobia</td>\n",
       "    </tr>\n",
       "    <tr>\n",
       "      <th>4</th>\n",
       "      <td>Very difficult</td>\n",
       "      <td>4</td>\n",
       "      <td>20.0</td>\n",
       "      <td>I play for fun</td>\n",
       "      <td>having fun</td>\n",
       "      <td>Male</td>\n",
       "      <td>19</td>\n",
       "      <td>Employed</td>\n",
       "      <td>South Korea</td>\n",
       "      <td>Fifteen - Nineteen yrs</td>\n",
       "      <td>Thirteen to Twenty-Three</td>\n",
       "      <td>Moderate Anxiety</td>\n",
       "      <td>Dissatisfied</td>\n",
       "      <td>Mild social phobia</td>\n",
       "    </tr>\n",
       "    <tr>\n",
       "      <th>...</th>\n",
       "      <td>...</td>\n",
       "      <td>...</td>\n",
       "      <td>...</td>\n",
       "      <td>...</td>\n",
       "      <td>...</td>\n",
       "      <td>...</td>\n",
       "      <td>...</td>\n",
       "      <td>...</td>\n",
       "      <td>...</td>\n",
       "      <td>...</td>\n",
       "      <td>...</td>\n",
       "      <td>...</td>\n",
       "      <td>...</td>\n",
       "      <td>...</td>\n",
       "    </tr>\n",
       "    <tr>\n",
       "      <th>13459</th>\n",
       "      <td>Not difficult at all</td>\n",
       "      <td>2</td>\n",
       "      <td>40.0</td>\n",
       "      <td>I play for fun</td>\n",
       "      <td>improving</td>\n",
       "      <td>Male</td>\n",
       "      <td>22</td>\n",
       "      <td>Student at college / university</td>\n",
       "      <td>France</td>\n",
       "      <td>Twenty - Twenty-Four yrs</td>\n",
       "      <td>Twenty-Four hrs or more</td>\n",
       "      <td>Mild Anxiety</td>\n",
       "      <td>Satisfied</td>\n",
       "      <td>Mild social phobia</td>\n",
       "    </tr>\n",
       "    <tr>\n",
       "      <th>13460</th>\n",
       "      <td>Extremely difficult</td>\n",
       "      <td>5</td>\n",
       "      <td>20.0</td>\n",
       "      <td>I play for fun</td>\n",
       "      <td>winning</td>\n",
       "      <td>Female</td>\n",
       "      <td>20</td>\n",
       "      <td>Student at college / university</td>\n",
       "      <td>USA</td>\n",
       "      <td>Twenty - Twenty-Four yrs</td>\n",
       "      <td>Thirteen to Twenty-Three</td>\n",
       "      <td>Moderate Anxiety</td>\n",
       "      <td>Neutral or slightly satisfied</td>\n",
       "      <td>Mild social phobia</td>\n",
       "    </tr>\n",
       "    <tr>\n",
       "      <th>13461</th>\n",
       "      <td>Not difficult at all</td>\n",
       "      <td>2</td>\n",
       "      <td>20.0</td>\n",
       "      <td>I play for fun</td>\n",
       "      <td>having fun</td>\n",
       "      <td>Male</td>\n",
       "      <td>19</td>\n",
       "      <td>Student at college / university</td>\n",
       "      <td>Norway</td>\n",
       "      <td>Fifteen - Nineteen yrs</td>\n",
       "      <td>Thirteen to Twenty-Three</td>\n",
       "      <td>Mild Anxiety</td>\n",
       "      <td>Extremely satisfied</td>\n",
       "      <td>Mild social phobia</td>\n",
       "    </tr>\n",
       "    <tr>\n",
       "      <th>13462</th>\n",
       "      <td>Somewhat difficult</td>\n",
       "      <td>3</td>\n",
       "      <td>5.0</td>\n",
       "      <td>I play for fun</td>\n",
       "      <td>having fun</td>\n",
       "      <td>Female</td>\n",
       "      <td>18</td>\n",
       "      <td>Student at school</td>\n",
       "      <td>Canada</td>\n",
       "      <td>Fifteen - Nineteen yrs</td>\n",
       "      <td>Twelve hours or less</td>\n",
       "      <td>Moderate Anxiety</td>\n",
       "      <td>Slightly Dissatisfied</td>\n",
       "      <td>Moderate</td>\n",
       "    </tr>\n",
       "    <tr>\n",
       "      <th>13463</th>\n",
       "      <td>Somewhat difficult</td>\n",
       "      <td>3</td>\n",
       "      <td>15.0</td>\n",
       "      <td>I play for fun</td>\n",
       "      <td>improving</td>\n",
       "      <td>Male</td>\n",
       "      <td>19</td>\n",
       "      <td>Student at college / university</td>\n",
       "      <td>Canada</td>\n",
       "      <td>Fifteen - Nineteen yrs</td>\n",
       "      <td>Thirteen to Twenty-Three</td>\n",
       "      <td>Mild Anxiety</td>\n",
       "      <td>Neutral or slightly satisfied</td>\n",
       "      <td>Mild social phobia</td>\n",
       "    </tr>\n",
       "  </tbody>\n",
       "</table>\n",
       "<p>12750 rows × 14 columns</p>\n",
       "</div>"
      ],
      "text/plain": [
       "                       GADE  GADE no.  Hours        earnings     whyplay  \\\n",
       "0      Not difficult at all         2   15.0  I play for fun  having fun   \n",
       "1        Somewhat difficult         3    8.0  I play for fun  having fun   \n",
       "2      Not difficult at all         2    0.0  I play for fun  having fun   \n",
       "3      Not difficult at all         2   20.0  I play for fun   improving   \n",
       "4            Very difficult         4   20.0  I play for fun  having fun   \n",
       "...                     ...       ...    ...             ...         ...   \n",
       "13459  Not difficult at all         2   40.0  I play for fun   improving   \n",
       "13460   Extremely difficult         5   20.0  I play for fun     winning   \n",
       "13461  Not difficult at all         2   20.0  I play for fun  having fun   \n",
       "13462    Somewhat difficult         3    5.0  I play for fun  having fun   \n",
       "13463    Somewhat difficult         3   15.0  I play for fun   improving   \n",
       "\n",
       "       Gender  Age                             Work    Residence  \\\n",
       "0        Male   25        Unemployed / between jobs          USA   \n",
       "1        Male   41        Unemployed / between jobs          USA   \n",
       "2      Female   32                         Employed      Germany   \n",
       "3        Male   28                         Employed          USA   \n",
       "4        Male   19                         Employed  South Korea   \n",
       "...       ...  ...                              ...          ...   \n",
       "13459    Male   22  Student at college / university       France   \n",
       "13460  Female   20  Student at college / university          USA   \n",
       "13461    Male   19  Student at college / university       Norway   \n",
       "13462  Female   18                Student at school       Canada   \n",
       "13463    Male   19  Student at college / university       Canada   \n",
       "\n",
       "                     Age Groups               HoursPlayed     Anxiety_Level  \\\n",
       "0      Twenty-Five - Thirty yrs  Thirteen to Twenty-Three      Mild Anxiety   \n",
       "1         Thirty-One yrs and up      Twelve hours or less    Severe Anxiety   \n",
       "2         Thirty-One yrs and up      Twelve hours or less    Severe Anxiety   \n",
       "3         Thirty-One yrs and up  Thirteen to Twenty-Three      Mild Anxiety   \n",
       "4        Fifteen - Nineteen yrs  Thirteen to Twenty-Three  Moderate Anxiety   \n",
       "...                         ...                       ...               ...   \n",
       "13459  Twenty - Twenty-Four yrs   Twenty-Four hrs or more      Mild Anxiety   \n",
       "13460  Twenty - Twenty-Four yrs  Thirteen to Twenty-Three  Moderate Anxiety   \n",
       "13461    Fifteen - Nineteen yrs  Thirteen to Twenty-Three      Mild Anxiety   \n",
       "13462    Fifteen - Nineteen yrs      Twelve hours or less  Moderate Anxiety   \n",
       "13463    Fifteen - Nineteen yrs  Thirteen to Twenty-Three      Mild Anxiety   \n",
       "\n",
       "                   Life_satisfaction        SocialPhobia  \n",
       "0      Neutral or slightly satisfied  Mild social phobia  \n",
       "1              Slightly Dissatisfied            Moderate  \n",
       "2              Slightly Dissatisfied            Moderate  \n",
       "3              Slightly Dissatisfied  Mild social phobia  \n",
       "4                       Dissatisfied  Mild social phobia  \n",
       "...                              ...                 ...  \n",
       "13459                      Satisfied  Mild social phobia  \n",
       "13460  Neutral or slightly satisfied  Mild social phobia  \n",
       "13461            Extremely satisfied  Mild social phobia  \n",
       "13462          Slightly Dissatisfied            Moderate  \n",
       "13463  Neutral or slightly satisfied  Mild social phobia  \n",
       "\n",
       "[12750 rows x 14 columns]"
      ]
     },
     "execution_count": 110,
     "metadata": {},
     "output_type": "execute_result"
    }
   ],
   "source": [
    "GamingStudy1.dropna()"
   ]
  },
  {
   "cell_type": "code",
   "execution_count": 132,
   "id": "3e8ee437",
   "metadata": {},
   "outputs": [],
   "source": [
    "# Write DataFrame to Excel file\n",
    "GamingStudy1.to_excel('GamingStudyDW.xlsx')\n"
   ]
  },
  {
   "cell_type": "markdown",
   "id": "8f2825ce",
   "metadata": {},
   "source": [
    "# Contingency Table"
   ]
  },
  {
   "cell_type": "code",
   "execution_count": 111,
   "id": "dd1512fc",
   "metadata": {},
   "outputs": [],
   "source": [
    "Gaming_crosstab = pd.crosstab(GamingStudy1['GADE'], GamingStudy1['HoursPlayed'])"
   ]
  },
  {
   "cell_type": "code",
   "execution_count": 112,
   "id": "c423de73",
   "metadata": {},
   "outputs": [
    {
     "data": {
      "text/html": [
       "<div>\n",
       "<style scoped>\n",
       "    .dataframe tbody tr th:only-of-type {\n",
       "        vertical-align: middle;\n",
       "    }\n",
       "\n",
       "    .dataframe tbody tr th {\n",
       "        vertical-align: top;\n",
       "    }\n",
       "\n",
       "    .dataframe thead th {\n",
       "        text-align: right;\n",
       "    }\n",
       "</style>\n",
       "<table border=\"1\" class=\"dataframe\">\n",
       "  <thead>\n",
       "    <tr style=\"text-align: right;\">\n",
       "      <th>HoursPlayed</th>\n",
       "      <th>Thirteen to Twenty-Three</th>\n",
       "      <th>Twelve hours or less</th>\n",
       "      <th>Twenty-Four hrs or more</th>\n",
       "    </tr>\n",
       "    <tr>\n",
       "      <th>GADE</th>\n",
       "      <th></th>\n",
       "      <th></th>\n",
       "      <th></th>\n",
       "    </tr>\n",
       "  </thead>\n",
       "  <tbody>\n",
       "    <tr>\n",
       "      <th>Extremely difficult</th>\n",
       "      <td>140</td>\n",
       "      <td>75</td>\n",
       "      <td>204</td>\n",
       "    </tr>\n",
       "    <tr>\n",
       "      <th>Not difficult at all</th>\n",
       "      <td>2509</td>\n",
       "      <td>1721</td>\n",
       "      <td>2006</td>\n",
       "    </tr>\n",
       "    <tr>\n",
       "      <th>Somewhat difficult</th>\n",
       "      <td>2062</td>\n",
       "      <td>1347</td>\n",
       "      <td>1739</td>\n",
       "    </tr>\n",
       "    <tr>\n",
       "      <th>Very difficult</th>\n",
       "      <td>380</td>\n",
       "      <td>228</td>\n",
       "      <td>404</td>\n",
       "    </tr>\n",
       "  </tbody>\n",
       "</table>\n",
       "</div>"
      ],
      "text/plain": [
       "HoursPlayed           Thirteen to Twenty-Three  Twelve hours or less  \\\n",
       "GADE                                                                   \n",
       "Extremely difficult                        140                    75   \n",
       "Not difficult at all                      2509                  1721   \n",
       "Somewhat difficult                        2062                  1347   \n",
       "Very difficult                             380                   228   \n",
       "\n",
       "HoursPlayed           Twenty-Four hrs or more  \n",
       "GADE                                           \n",
       "Extremely difficult                       204  \n",
       "Not difficult at all                     2006  \n",
       "Somewhat difficult                       1739  \n",
       "Very difficult                            404  "
      ]
     },
     "execution_count": 112,
     "metadata": {},
     "output_type": "execute_result"
    }
   ],
   "source": [
    "Gaming_crosstab"
   ]
  },
  {
   "cell_type": "markdown",
   "id": "6534fc46",
   "metadata": {},
   "source": [
    "# Run the Independent Chi-Square: #1"
   ]
  },
  {
   "cell_type": "code",
   "execution_count": 113,
   "id": "598af740",
   "metadata": {},
   "outputs": [
    {
     "data": {
      "text/plain": [
       "(69.97669795838137,\n",
       " 4.1341111557863663e-13,\n",
       " 6,\n",
       " array([[ 166.45563792,  110.21841592,  142.32594616],\n",
       "        [2477.36839641, 1640.3867343 , 2118.24486929],\n",
       "        [2045.13991416, 1354.18712446, 1748.67296137],\n",
       "        [ 402.0360515 ,  266.20772532,  343.75622318]]))"
      ]
     },
     "execution_count": 113,
     "metadata": {},
     "output_type": "execute_result"
    }
   ],
   "source": [
    "stats.chi2_contingency(Gaming_crosstab)"
   ]
  },
  {
   "cell_type": "markdown",
   "id": "8b3e9ffe",
   "metadata": {},
   "source": [
    "# #1 Test the Assumption of 5 Cases per Expected Cell\n",
    "# All of the values in the array table are greater than 5, all of the assumptions have been met.\n",
    "# Chi-Square Test Statistic: 69.97669795838137\n",
    "# p-value: 4.1341111557863663e-13\n",
    "# Degrees of freedom: 6\n",
    "\n",
    "# Since the p-value is less than 0.05, we do not reject the null hypothesis. \n",
    "# This means we do have sufficient evidence that says that there is a correlation between hours played and GADE (gaming and the ability to work and do normal tasks."
   ]
  },
  {
   "cell_type": "markdown",
   "id": "7ebd5472",
   "metadata": {},
   "source": [
    "# #2 Analyzing Anxiety levels & Playing hours"
   ]
  },
  {
   "cell_type": "markdown",
   "id": "67071652",
   "metadata": {},
   "source": [
    "# #2 Contingency Table: Using the crosstab function"
   ]
  },
  {
   "cell_type": "code",
   "execution_count": 114,
   "id": "b7dc9ceb",
   "metadata": {},
   "outputs": [],
   "source": [
    "Gaming2_crosstab = pd.crosstab(GamingStudy1['Anxiety_Level'], GamingStudy1['HoursPlayed'])"
   ]
  },
  {
   "cell_type": "code",
   "execution_count": 115,
   "id": "8c8a8d6e",
   "metadata": {
    "scrolled": true
   },
   "outputs": [
    {
     "data": {
      "text/html": [
       "<div>\n",
       "<style scoped>\n",
       "    .dataframe tbody tr th:only-of-type {\n",
       "        vertical-align: middle;\n",
       "    }\n",
       "\n",
       "    .dataframe tbody tr th {\n",
       "        vertical-align: top;\n",
       "    }\n",
       "\n",
       "    .dataframe thead th {\n",
       "        text-align: right;\n",
       "    }\n",
       "</style>\n",
       "<table border=\"1\" class=\"dataframe\">\n",
       "  <thead>\n",
       "    <tr style=\"text-align: right;\">\n",
       "      <th>HoursPlayed</th>\n",
       "      <th>Thirteen to Twenty-Three</th>\n",
       "      <th>Twelve hours or less</th>\n",
       "      <th>Twenty-Four hrs or more</th>\n",
       "    </tr>\n",
       "    <tr>\n",
       "      <th>Anxiety_Level</th>\n",
       "      <th></th>\n",
       "      <th></th>\n",
       "      <th></th>\n",
       "    </tr>\n",
       "  </thead>\n",
       "  <tbody>\n",
       "    <tr>\n",
       "      <th>Mild Anxiety</th>\n",
       "      <td>3439</td>\n",
       "      <td>2334</td>\n",
       "      <td>2697</td>\n",
       "    </tr>\n",
       "    <tr>\n",
       "      <th>Moderate Anxiety</th>\n",
       "      <td>852</td>\n",
       "      <td>553</td>\n",
       "      <td>947</td>\n",
       "    </tr>\n",
       "    <tr>\n",
       "      <th>Severe Anxiety</th>\n",
       "      <td>1047</td>\n",
       "      <td>662</td>\n",
       "      <td>933</td>\n",
       "    </tr>\n",
       "  </tbody>\n",
       "</table>\n",
       "</div>"
      ],
      "text/plain": [
       "HoursPlayed       Thirteen to Twenty-Three  Twelve hours or less  \\\n",
       "Anxiety_Level                                                      \n",
       "Mild Anxiety                          3439                  2334   \n",
       "Moderate Anxiety                       852                   553   \n",
       "Severe Anxiety                        1047                   662   \n",
       "\n",
       "HoursPlayed       Twenty-Four hrs or more  \n",
       "Anxiety_Level                              \n",
       "Mild Anxiety                         2697  \n",
       "Moderate Anxiety                      947  \n",
       "Severe Anxiety                        933  "
      ]
     },
     "execution_count": 115,
     "metadata": {},
     "output_type": "execute_result"
    }
   ],
   "source": [
    "Gaming2_crosstab"
   ]
  },
  {
   "cell_type": "markdown",
   "id": "fa935a99",
   "metadata": {},
   "source": [
    "# Chi-Square Analysis #2"
   ]
  },
  {
   "cell_type": "code",
   "execution_count": 116,
   "id": "021d465e",
   "metadata": {},
   "outputs": [
    {
     "data": {
      "text/plain": [
       "(62.52725222550489,\n",
       " 8.532825636302438e-13,\n",
       " 4,\n",
       " array([[3358.05555556, 2232.62254902, 2879.32189542],\n",
       "        [ 932.48484848,  619.96791444,  799.54723708],\n",
       "        [1047.45959596,  696.40953654,  898.1308675 ]]))"
      ]
     },
     "execution_count": 116,
     "metadata": {},
     "output_type": "execute_result"
    }
   ],
   "source": [
    "stats.chi2_contingency(Gaming2_crosstab)"
   ]
  },
  {
   "cell_type": "markdown",
   "id": "1cc22125",
   "metadata": {},
   "source": [
    "# #2 Test the Assumption of 5 Cases per Expected Cell\n",
    "# All of the values in the array table are greater than 5, all of the assumptions have been met.\n",
    "# Chi-Square Test Statistic: 62.52725222550489\n",
    "# p-value: 8.532825636302438e-13\n",
    "# Degrees of freedom: 4\n",
    "\n",
    "# Since the p-value is less than 0.05, we do not reject the null hypothesis. \n",
    "# This means we do have sufficient evidence that says that there is a correlation between hours played and anxiety level."
   ]
  },
  {
   "cell_type": "markdown",
   "id": "0716aab2",
   "metadata": {},
   "source": [
    "# #3 Life_satisfaction & Playing hours"
   ]
  },
  {
   "cell_type": "markdown",
   "id": "f88f6474",
   "metadata": {},
   "source": [
    "# Contingency Table: Using Crosstab"
   ]
  },
  {
   "cell_type": "code",
   "execution_count": 117,
   "id": "93b26227",
   "metadata": {},
   "outputs": [],
   "source": [
    "Gaming3_crosstab = pd.crosstab(GamingStudy1['Life_satisfaction'], GamingStudy1['HoursPlayed'])"
   ]
  },
  {
   "cell_type": "code",
   "execution_count": 118,
   "id": "b2cccfdc",
   "metadata": {},
   "outputs": [
    {
     "data": {
      "text/html": [
       "<div>\n",
       "<style scoped>\n",
       "    .dataframe tbody tr th:only-of-type {\n",
       "        vertical-align: middle;\n",
       "    }\n",
       "\n",
       "    .dataframe tbody tr th {\n",
       "        vertical-align: top;\n",
       "    }\n",
       "\n",
       "    .dataframe thead th {\n",
       "        text-align: right;\n",
       "    }\n",
       "</style>\n",
       "<table border=\"1\" class=\"dataframe\">\n",
       "  <thead>\n",
       "    <tr style=\"text-align: right;\">\n",
       "      <th>HoursPlayed</th>\n",
       "      <th>Thirteen to Twenty-Three</th>\n",
       "      <th>Twelve hours or less</th>\n",
       "      <th>Twenty-Four hrs or more</th>\n",
       "    </tr>\n",
       "    <tr>\n",
       "      <th>Life_satisfaction</th>\n",
       "      <th></th>\n",
       "      <th></th>\n",
       "      <th></th>\n",
       "    </tr>\n",
       "  </thead>\n",
       "  <tbody>\n",
       "    <tr>\n",
       "      <th>Dissatisfied</th>\n",
       "      <td>904</td>\n",
       "      <td>557</td>\n",
       "      <td>923</td>\n",
       "    </tr>\n",
       "    <tr>\n",
       "      <th>Extremely Dissatisfied</th>\n",
       "      <td>392</td>\n",
       "      <td>240</td>\n",
       "      <td>528</td>\n",
       "    </tr>\n",
       "    <tr>\n",
       "      <th>Extremely satisfied</th>\n",
       "      <td>321</td>\n",
       "      <td>264</td>\n",
       "      <td>266</td>\n",
       "    </tr>\n",
       "    <tr>\n",
       "      <th>Neutral or slightly satisfied</th>\n",
       "      <td>1455</td>\n",
       "      <td>1009</td>\n",
       "      <td>1130</td>\n",
       "    </tr>\n",
       "    <tr>\n",
       "      <th>Satisfied</th>\n",
       "      <td>1071</td>\n",
       "      <td>759</td>\n",
       "      <td>705</td>\n",
       "    </tr>\n",
       "    <tr>\n",
       "      <th>Slightly Dissatisfied</th>\n",
       "      <td>1195</td>\n",
       "      <td>720</td>\n",
       "      <td>1025</td>\n",
       "    </tr>\n",
       "  </tbody>\n",
       "</table>\n",
       "</div>"
      ],
      "text/plain": [
       "HoursPlayed                    Thirteen to Twenty-Three  Twelve hours or less  \\\n",
       "Life_satisfaction                                                               \n",
       "Dissatisfied                                        904                   557   \n",
       "Extremely Dissatisfied                              392                   240   \n",
       "Extremely satisfied                                 321                   264   \n",
       "Neutral or slightly satisfied                      1455                  1009   \n",
       "Satisfied                                          1071                   759   \n",
       "Slightly Dissatisfied                              1195                   720   \n",
       "\n",
       "HoursPlayed                    Twenty-Four hrs or more  \n",
       "Life_satisfaction                                       \n",
       "Dissatisfied                                       923  \n",
       "Extremely Dissatisfied                             528  \n",
       "Extremely satisfied                                266  \n",
       "Neutral or slightly satisfied                     1130  \n",
       "Satisfied                                          705  \n",
       "Slightly Dissatisfied                             1025  "
      ]
     },
     "execution_count": 118,
     "metadata": {},
     "output_type": "execute_result"
    }
   ],
   "source": [
    "Gaming3_crosstab"
   ]
  },
  {
   "cell_type": "markdown",
   "id": "3fda0cdd",
   "metadata": {},
   "source": [
    "# Chi-Square Analysis #3"
   ]
  },
  {
   "cell_type": "code",
   "execution_count": 119,
   "id": "118a6312",
   "metadata": {},
   "outputs": [
    {
     "data": {
      "text/plain": [
       "(166.72738898335675,\n",
       " 1.3194423995711992e-30,\n",
       " 10,\n",
       " array([[ 945.17171717,  628.40285205,  810.42543078],\n",
       "        [ 459.8989899 ,  305.76648841,  394.33452169],\n",
       "        [ 337.39141414,  224.3166221 ,  289.29196376],\n",
       "        [1424.89393939,  947.34893048, 1221.75713012],\n",
       "        [1005.03787879,  668.2052139 ,  861.75690731],\n",
       "        [1165.60606061,  774.95989305,  999.43404635]]))"
      ]
     },
     "execution_count": 119,
     "metadata": {},
     "output_type": "execute_result"
    }
   ],
   "source": [
    "stats.chi2_contingency(Gaming3_crosstab)"
   ]
  },
  {
   "cell_type": "markdown",
   "id": "c53d5f57",
   "metadata": {},
   "source": [
    "# #3 Test the Assumption of 5 Cases per Expected Cell\n",
    "# All of the values in the array table are greater than 5, all of the assumptions have been met.\n",
    "# Chi-Square Test Statistic: 166.72738898335675\n",
    "# p-value: 1.3194423995711992e-30\n",
    "# Degrees of freedom: 10\n",
    "\n",
    "# Since the p-value is less than 0.05, we do not reject the null hypothesis. \n",
    "# This means we do have sufficient evidence that says that there is a correlation between hours played and life satisfaction."
   ]
  },
  {
   "cell_type": "markdown",
   "id": "975e0b6e",
   "metadata": {},
   "source": [
    "# #4 SocialPhobia levels and Playing Hours\n",
    "# Contigency Table: Using Crosstab"
   ]
  },
  {
   "cell_type": "code",
   "execution_count": 120,
   "id": "a847bfaf",
   "metadata": {},
   "outputs": [],
   "source": [
    "Gaming4_crosstab = pd.crosstab(GamingStudy1['SocialPhobia'], GamingStudy1['HoursPlayed'])"
   ]
  },
  {
   "cell_type": "code",
   "execution_count": 121,
   "id": "c895ae7d",
   "metadata": {},
   "outputs": [
    {
     "data": {
      "text/html": [
       "<div>\n",
       "<style scoped>\n",
       "    .dataframe tbody tr th:only-of-type {\n",
       "        vertical-align: middle;\n",
       "    }\n",
       "\n",
       "    .dataframe tbody tr th {\n",
       "        vertical-align: top;\n",
       "    }\n",
       "\n",
       "    .dataframe thead th {\n",
       "        text-align: right;\n",
       "    }\n",
       "</style>\n",
       "<table border=\"1\" class=\"dataframe\">\n",
       "  <thead>\n",
       "    <tr style=\"text-align: right;\">\n",
       "      <th>HoursPlayed</th>\n",
       "      <th>Thirteen to Twenty-Three</th>\n",
       "      <th>Twelve hours or less</th>\n",
       "      <th>Twenty-Four hrs or more</th>\n",
       "    </tr>\n",
       "    <tr>\n",
       "      <th>SocialPhobia</th>\n",
       "      <th></th>\n",
       "      <th></th>\n",
       "      <th></th>\n",
       "    </tr>\n",
       "  </thead>\n",
       "  <tbody>\n",
       "    <tr>\n",
       "      <th>Mild social phobia</th>\n",
       "      <td>4125</td>\n",
       "      <td>2764</td>\n",
       "      <td>3246</td>\n",
       "    </tr>\n",
       "    <tr>\n",
       "      <th>Moderate</th>\n",
       "      <td>977</td>\n",
       "      <td>628</td>\n",
       "      <td>1074</td>\n",
       "    </tr>\n",
       "    <tr>\n",
       "      <th>Very severe</th>\n",
       "      <td>236</td>\n",
       "      <td>157</td>\n",
       "      <td>257</td>\n",
       "    </tr>\n",
       "  </tbody>\n",
       "</table>\n",
       "</div>"
      ],
      "text/plain": [
       "HoursPlayed         Thirteen to Twenty-Three  Twelve hours or less  \\\n",
       "SocialPhobia                                                         \n",
       "Mild social phobia                      4125                  2764   \n",
       "Moderate                                 977                   628   \n",
       "Very severe                              236                   157   \n",
       "\n",
       "HoursPlayed         Twenty-Four hrs or more  \n",
       "SocialPhobia                                 \n",
       "Mild social phobia                     3246  \n",
       "Moderate                               1074  \n",
       "Very severe                             257  "
      ]
     },
     "execution_count": 121,
     "metadata": {},
     "output_type": "execute_result"
    }
   ],
   "source": [
    "Gaming4_crosstab"
   ]
  },
  {
   "cell_type": "markdown",
   "id": "3722bc44",
   "metadata": {},
   "source": [
    "# Chi-Square Analysis #4"
   ]
  },
  {
   "cell_type": "code",
   "execution_count": 122,
   "id": "e96e7c98",
   "metadata": {},
   "outputs": [
    {
     "data": {
      "text/plain": [
       "(71.23184443996473,\n",
       " 1.247014458271913e-14,\n",
       " 4,\n",
       " array([[4018.16919192, 2671.50289661, 3445.32791147],\n",
       "        [1062.12878788,  706.16243316,  910.70877897],\n",
       "        [ 257.7020202 ,  171.33467023,  220.96330957]]))"
      ]
     },
     "execution_count": 122,
     "metadata": {},
     "output_type": "execute_result"
    }
   ],
   "source": [
    "stats.chi2_contingency(Gaming4_crosstab)"
   ]
  },
  {
   "cell_type": "markdown",
   "id": "fec54f75",
   "metadata": {},
   "source": [
    "# #4 Test the Assumption of 5 Cases per Expected Cell\n",
    "# All of the values in the array table are greater than 5, all of the assumptions have been met.\n",
    "# Chi-Square Test Statistic: 71.23184443996473\n",
    "# p-value: 1.247014458271913e-14\n",
    "# Degrees of freedom: 4\n",
    "\n",
    "# Since the p-value is less than 0.05, we do not reject the null hypothesis. \n",
    "# This means we do have sufficient evidence that says that there is a correlation between hours played and social phobia."
   ]
  },
  {
   "cell_type": "markdown",
   "id": "33ad733c",
   "metadata": {},
   "source": [
    "# CORRELATION MATRIX"
   ]
  },
  {
   "cell_type": "markdown",
   "id": "75ab7248",
   "metadata": {},
   "source": [
    "# Correlation 1: GADE no. (Gaming and the ability to work and do normal tasks)"
   ]
  },
  {
   "cell_type": "code",
   "execution_count": 123,
   "id": "bcb1987c",
   "metadata": {},
   "outputs": [
    {
     "data": {
      "text/plain": [
       "0.03074667995181933"
      ]
     },
     "execution_count": 123,
     "metadata": {},
     "output_type": "execute_result"
    }
   ],
   "source": [
    "GamingStudy['Hours'].corr(GamingStudy['GADE no.'])"
   ]
  },
  {
   "cell_type": "markdown",
   "id": "51962d11",
   "metadata": {},
   "source": [
    "# Correlation 2: GAD_T (Anxiety Level)"
   ]
  },
  {
   "cell_type": "code",
   "execution_count": 124,
   "id": "ed8b5c06",
   "metadata": {},
   "outputs": [
    {
     "data": {
      "text/plain": [
       "0.0127555522418026"
      ]
     },
     "execution_count": 124,
     "metadata": {},
     "output_type": "execute_result"
    }
   ],
   "source": [
    "GamingStudy['Hours'].corr(GamingStudy['GAD_T'])"
   ]
  },
  {
   "cell_type": "markdown",
   "id": "fb6b91a1",
   "metadata": {},
   "source": [
    "# Correlation 3: SWL_T (Life Satisfaction)"
   ]
  },
  {
   "cell_type": "code",
   "execution_count": 125,
   "id": "9b81af68",
   "metadata": {},
   "outputs": [
    {
     "data": {
      "text/plain": [
       "-0.03576989680370109"
      ]
     },
     "execution_count": 125,
     "metadata": {},
     "output_type": "execute_result"
    }
   ],
   "source": [
    "GamingStudy['Hours'].corr(GamingStudy['SWL_T'])"
   ]
  },
  {
   "cell_type": "markdown",
   "id": "dea52e64",
   "metadata": {},
   "source": [
    "# Correlation 4: SPIN_T (Social Phobia)"
   ]
  },
  {
   "cell_type": "code",
   "execution_count": 126,
   "id": "104764ce",
   "metadata": {},
   "outputs": [
    {
     "data": {
      "text/plain": [
       "0.049049768744345336"
      ]
     },
     "execution_count": 126,
     "metadata": {},
     "output_type": "execute_result"
    }
   ],
   "source": [
    "GamingStudy['Hours'].corr (GamingStudy ['SPIN_T'])"
   ]
  },
  {
   "cell_type": "markdown",
   "id": "eb0be8c9",
   "metadata": {},
   "source": [
    "# Drop Non-Continuous Variables"
   ]
  },
  {
   "cell_type": "code",
   "execution_count": 127,
   "id": "e0876da9",
   "metadata": {},
   "outputs": [
    {
     "data": {
      "text/html": [
       "<div>\n",
       "<style scoped>\n",
       "    .dataframe tbody tr th:only-of-type {\n",
       "        vertical-align: middle;\n",
       "    }\n",
       "\n",
       "    .dataframe tbody tr th {\n",
       "        vertical-align: top;\n",
       "    }\n",
       "\n",
       "    .dataframe thead th {\n",
       "        text-align: right;\n",
       "    }\n",
       "</style>\n",
       "<table border=\"1\" class=\"dataframe\">\n",
       "  <thead>\n",
       "    <tr style=\"text-align: right;\">\n",
       "      <th></th>\n",
       "      <th>GADE no.</th>\n",
       "      <th>Hours</th>\n",
       "      <th>Age</th>\n",
       "      <th>GAD_T</th>\n",
       "      <th>SWL_T</th>\n",
       "      <th>SPIN_T</th>\n",
       "      <th>Age Groups</th>\n",
       "      <th>HoursPlayed</th>\n",
       "      <th>Anxiety_Level</th>\n",
       "      <th>Life_satisfaction</th>\n",
       "      <th>SocialPhobia</th>\n",
       "    </tr>\n",
       "  </thead>\n",
       "  <tbody>\n",
       "    <tr>\n",
       "      <th>0</th>\n",
       "      <td>2</td>\n",
       "      <td>15.0</td>\n",
       "      <td>25</td>\n",
       "      <td>1</td>\n",
       "      <td>23</td>\n",
       "      <td>5.0</td>\n",
       "      <td>Twenty-Five - Thirty yrs</td>\n",
       "      <td>Thirteen to Twenty-Three</td>\n",
       "      <td>Mild Anxiety</td>\n",
       "      <td>Neutral or slightly satisfied</td>\n",
       "      <td>Mild social phobia</td>\n",
       "    </tr>\n",
       "    <tr>\n",
       "      <th>1</th>\n",
       "      <td>3</td>\n",
       "      <td>8.0</td>\n",
       "      <td>41</td>\n",
       "      <td>8</td>\n",
       "      <td>16</td>\n",
       "      <td>33.0</td>\n",
       "      <td>Thirty-One yrs and up</td>\n",
       "      <td>Twelve hours or less</td>\n",
       "      <td>Severe Anxiety</td>\n",
       "      <td>Slightly Dissatisfied</td>\n",
       "      <td>Moderate</td>\n",
       "    </tr>\n",
       "    <tr>\n",
       "      <th>2</th>\n",
       "      <td>2</td>\n",
       "      <td>0.0</td>\n",
       "      <td>32</td>\n",
       "      <td>8</td>\n",
       "      <td>17</td>\n",
       "      <td>31.0</td>\n",
       "      <td>Thirty-One yrs and up</td>\n",
       "      <td>Twelve hours or less</td>\n",
       "      <td>Severe Anxiety</td>\n",
       "      <td>Slightly Dissatisfied</td>\n",
       "      <td>Moderate</td>\n",
       "    </tr>\n",
       "    <tr>\n",
       "      <th>3</th>\n",
       "      <td>2</td>\n",
       "      <td>20.0</td>\n",
       "      <td>28</td>\n",
       "      <td>0</td>\n",
       "      <td>17</td>\n",
       "      <td>11.0</td>\n",
       "      <td>Thirty-One yrs and up</td>\n",
       "      <td>Thirteen to Twenty-Three</td>\n",
       "      <td>Mild Anxiety</td>\n",
       "      <td>Slightly Dissatisfied</td>\n",
       "      <td>Mild social phobia</td>\n",
       "    </tr>\n",
       "    <tr>\n",
       "      <th>4</th>\n",
       "      <td>4</td>\n",
       "      <td>20.0</td>\n",
       "      <td>19</td>\n",
       "      <td>14</td>\n",
       "      <td>14</td>\n",
       "      <td>13.0</td>\n",
       "      <td>Fifteen - Nineteen yrs</td>\n",
       "      <td>Thirteen to Twenty-Three</td>\n",
       "      <td>Moderate Anxiety</td>\n",
       "      <td>Dissatisfied</td>\n",
       "      <td>Mild social phobia</td>\n",
       "    </tr>\n",
       "  </tbody>\n",
       "</table>\n",
       "</div>"
      ],
      "text/plain": [
       "   GADE no.  Hours  Age  GAD_T  SWL_T  SPIN_T                Age Groups  \\\n",
       "0         2   15.0   25      1     23     5.0  Twenty-Five - Thirty yrs   \n",
       "1         3    8.0   41      8     16    33.0     Thirty-One yrs and up   \n",
       "2         2    0.0   32      8     17    31.0     Thirty-One yrs and up   \n",
       "3         2   20.0   28      0     17    11.0     Thirty-One yrs and up   \n",
       "4         4   20.0   19     14     14    13.0    Fifteen - Nineteen yrs   \n",
       "\n",
       "                HoursPlayed     Anxiety_Level              Life_satisfaction  \\\n",
       "0  Thirteen to Twenty-Three      Mild Anxiety  Neutral or slightly satisfied   \n",
       "1      Twelve hours or less    Severe Anxiety          Slightly Dissatisfied   \n",
       "2      Twelve hours or less    Severe Anxiety          Slightly Dissatisfied   \n",
       "3  Thirteen to Twenty-Three      Mild Anxiety          Slightly Dissatisfied   \n",
       "4  Thirteen to Twenty-Three  Moderate Anxiety                   Dissatisfied   \n",
       "\n",
       "         SocialPhobia  \n",
       "0  Mild social phobia  \n",
       "1            Moderate  \n",
       "2            Moderate  \n",
       "3  Mild social phobia  \n",
       "4  Mild social phobia  "
      ]
     },
     "execution_count": 127,
     "metadata": {},
     "output_type": "execute_result"
    }
   ],
   "source": [
    "GamingStudy_2 = GamingStudy.drop(['S. No.','Timestamp','GAD1', 'GAD2','GAD3','GAD4','GAD5','GAD6','GAD7','GADE','SWL1', 'SWL2','SWL3','SWL4','SWL5', 'Game', 'Platform', 'earnings','whyplay','League','highestleague','streams','SPIN1','SPIN2','SPIN3','SPIN4','SPIN5','SPIN6','SPIN7','SPIN8','SPIN9','SPIN10','SPIN11','SPIN12','SPIN13','SPIN14','SPIN15','SPIN16','SPIN17','Narcissism','Gender','Work','Degree','Birthplace','Residence','Reference','Playstyle','accept','Residence_ISO3','Birthplace_ISO3'], axis=1)\n",
    "GamingStudy_2.head()"
   ]
  },
  {
   "cell_type": "markdown",
   "id": "452d3fe1",
   "metadata": {},
   "source": [
    "# .corr() on Entire Dataset"
   ]
  },
  {
   "cell_type": "code",
   "execution_count": 128,
   "id": "3c55c9ab",
   "metadata": {},
   "outputs": [
    {
     "data": {
      "text/html": [
       "<div>\n",
       "<style scoped>\n",
       "    .dataframe tbody tr th:only-of-type {\n",
       "        vertical-align: middle;\n",
       "    }\n",
       "\n",
       "    .dataframe tbody tr th {\n",
       "        vertical-align: top;\n",
       "    }\n",
       "\n",
       "    .dataframe thead th {\n",
       "        text-align: right;\n",
       "    }\n",
       "</style>\n",
       "<table border=\"1\" class=\"dataframe\">\n",
       "  <thead>\n",
       "    <tr style=\"text-align: right;\">\n",
       "      <th></th>\n",
       "      <th>GADE no.</th>\n",
       "      <th>Hours</th>\n",
       "      <th>Age</th>\n",
       "      <th>GAD_T</th>\n",
       "      <th>SWL_T</th>\n",
       "      <th>SPIN_T</th>\n",
       "    </tr>\n",
       "  </thead>\n",
       "  <tbody>\n",
       "    <tr>\n",
       "      <th>GADE no.</th>\n",
       "      <td>1.000000</td>\n",
       "      <td>0.030747</td>\n",
       "      <td>-0.028366</td>\n",
       "      <td>0.652065</td>\n",
       "      <td>-0.369782</td>\n",
       "      <td>0.372136</td>\n",
       "    </tr>\n",
       "    <tr>\n",
       "      <th>Hours</th>\n",
       "      <td>0.030747</td>\n",
       "      <td>1.000000</td>\n",
       "      <td>-0.020858</td>\n",
       "      <td>0.012756</td>\n",
       "      <td>-0.035770</td>\n",
       "      <td>0.049050</td>\n",
       "    </tr>\n",
       "    <tr>\n",
       "      <th>Age</th>\n",
       "      <td>-0.028366</td>\n",
       "      <td>-0.020858</td>\n",
       "      <td>1.000000</td>\n",
       "      <td>-0.041471</td>\n",
       "      <td>0.006397</td>\n",
       "      <td>-0.106385</td>\n",
       "    </tr>\n",
       "    <tr>\n",
       "      <th>GAD_T</th>\n",
       "      <td>0.652065</td>\n",
       "      <td>0.012756</td>\n",
       "      <td>-0.041471</td>\n",
       "      <td>1.000000</td>\n",
       "      <td>-0.403273</td>\n",
       "      <td>0.454654</td>\n",
       "    </tr>\n",
       "    <tr>\n",
       "      <th>SWL_T</th>\n",
       "      <td>-0.369782</td>\n",
       "      <td>-0.035770</td>\n",
       "      <td>0.006397</td>\n",
       "      <td>-0.403273</td>\n",
       "      <td>1.000000</td>\n",
       "      <td>-0.318592</td>\n",
       "    </tr>\n",
       "    <tr>\n",
       "      <th>SPIN_T</th>\n",
       "      <td>0.372136</td>\n",
       "      <td>0.049050</td>\n",
       "      <td>-0.106385</td>\n",
       "      <td>0.454654</td>\n",
       "      <td>-0.318592</td>\n",
       "      <td>1.000000</td>\n",
       "    </tr>\n",
       "  </tbody>\n",
       "</table>\n",
       "</div>"
      ],
      "text/plain": [
       "          GADE no.     Hours       Age     GAD_T     SWL_T    SPIN_T\n",
       "GADE no.  1.000000  0.030747 -0.028366  0.652065 -0.369782  0.372136\n",
       "Hours     0.030747  1.000000 -0.020858  0.012756 -0.035770  0.049050\n",
       "Age      -0.028366 -0.020858  1.000000 -0.041471  0.006397 -0.106385\n",
       "GAD_T     0.652065  0.012756 -0.041471  1.000000 -0.403273  0.454654\n",
       "SWL_T    -0.369782 -0.035770  0.006397 -0.403273  1.000000 -0.318592\n",
       "SPIN_T    0.372136  0.049050 -0.106385  0.454654 -0.318592  1.000000"
      ]
     },
     "execution_count": 128,
     "metadata": {},
     "output_type": "execute_result"
    }
   ],
   "source": [
    "GamingStudy_2.corr(method='pearson')"
   ]
  },
  {
   "cell_type": "markdown",
   "id": "8f4182a1",
   "metadata": {},
   "source": [
    "# .corr()  HEATMAP"
   ]
  },
  {
   "cell_type": "code",
   "execution_count": 131,
   "id": "1d4f2bf1",
   "metadata": {},
   "outputs": [
    {
     "data": {
      "text/html": [
       "<style type=\"text/css\">\n",
       "#T_a88f0_row0_col0, #T_a88f0_row1_col1, #T_a88f0_row2_col2, #T_a88f0_row3_col3, #T_a88f0_row4_col4, #T_a88f0_row5_col5 {\n",
       "  background-color: #b40426;\n",
       "  color: #f1f1f1;\n",
       "}\n",
       "#T_a88f0_row0_col1, #T_a88f0_row4_col2 {\n",
       "  background-color: #9bbcff;\n",
       "  color: #000000;\n",
       "}\n",
       "#T_a88f0_row0_col2 {\n",
       "  background-color: #8caffe;\n",
       "  color: #000000;\n",
       "}\n",
       "#T_a88f0_row0_col3 {\n",
       "  background-color: #f59c7d;\n",
       "  color: #000000;\n",
       "}\n",
       "#T_a88f0_row0_col4, #T_a88f0_row1_col4, #T_a88f0_row2_col5, #T_a88f0_row3_col4, #T_a88f0_row4_col3, #T_a88f0_row5_col4 {\n",
       "  background-color: #3b4cc0;\n",
       "  color: #f1f1f1;\n",
       "}\n",
       "#T_a88f0_row0_col5 {\n",
       "  background-color: #e7d7ce;\n",
       "  color: #000000;\n",
       "}\n",
       "#T_a88f0_row1_col0 {\n",
       "  background-color: #4e68d8;\n",
       "  color: #f1f1f1;\n",
       "}\n",
       "#T_a88f0_row1_col2 {\n",
       "  background-color: #3e51c5;\n",
       "  color: #f1f1f1;\n",
       "}\n",
       "#T_a88f0_row1_col3 {\n",
       "  background-color: #485fd1;\n",
       "  color: #f1f1f1;\n",
       "}\n",
       "#T_a88f0_row1_col5 {\n",
       "  background-color: #536edd;\n",
       "  color: #f1f1f1;\n",
       "}\n",
       "#T_a88f0_row2_col0 {\n",
       "  background-color: #506bda;\n",
       "  color: #f1f1f1;\n",
       "}\n",
       "#T_a88f0_row2_col1 {\n",
       "  background-color: #516ddb;\n",
       "  color: #f1f1f1;\n",
       "}\n",
       "#T_a88f0_row2_col3, #T_a88f0_row4_col5 {\n",
       "  background-color: #4c66d6;\n",
       "  color: #f1f1f1;\n",
       "}\n",
       "#T_a88f0_row2_col4 {\n",
       "  background-color: #5a78e4;\n",
       "  color: #f1f1f1;\n",
       "}\n",
       "#T_a88f0_row3_col0 {\n",
       "  background-color: #f4987a;\n",
       "  color: #000000;\n",
       "}\n",
       "#T_a88f0_row3_col1 {\n",
       "  background-color: #9dbdff;\n",
       "  color: #000000;\n",
       "}\n",
       "#T_a88f0_row3_col2 {\n",
       "  background-color: #90b2fe;\n",
       "  color: #000000;\n",
       "}\n",
       "#T_a88f0_row3_col5 {\n",
       "  background-color: #f3c8b2;\n",
       "  color: #000000;\n",
       "}\n",
       "#T_a88f0_row4_col0 {\n",
       "  background-color: #4257c9;\n",
       "  color: #f1f1f1;\n",
       "}\n",
       "#T_a88f0_row4_col1 {\n",
       "  background-color: #92b4fe;\n",
       "  color: #000000;\n",
       "}\n",
       "#T_a88f0_row5_col0 {\n",
       "  background-color: #e3d9d3;\n",
       "  color: #000000;\n",
       "}\n",
       "#T_a88f0_row5_col1 {\n",
       "  background-color: #97b8ff;\n",
       "  color: #000000;\n",
       "}\n",
       "#T_a88f0_row5_col2 {\n",
       "  background-color: #6e90f2;\n",
       "  color: #f1f1f1;\n",
       "}\n",
       "#T_a88f0_row5_col3 {\n",
       "  background-color: #f0cdbb;\n",
       "  color: #000000;\n",
       "}\n",
       "</style>\n",
       "<table id=\"T_a88f0\">\n",
       "  <thead>\n",
       "    <tr>\n",
       "      <th class=\"blank level0\" >&nbsp;</th>\n",
       "      <th id=\"T_a88f0_level0_col0\" class=\"col_heading level0 col0\" >GADE no.</th>\n",
       "      <th id=\"T_a88f0_level0_col1\" class=\"col_heading level0 col1\" >Hours</th>\n",
       "      <th id=\"T_a88f0_level0_col2\" class=\"col_heading level0 col2\" >Age</th>\n",
       "      <th id=\"T_a88f0_level0_col3\" class=\"col_heading level0 col3\" >GAD_T</th>\n",
       "      <th id=\"T_a88f0_level0_col4\" class=\"col_heading level0 col4\" >SWL_T</th>\n",
       "      <th id=\"T_a88f0_level0_col5\" class=\"col_heading level0 col5\" >SPIN_T</th>\n",
       "    </tr>\n",
       "  </thead>\n",
       "  <tbody>\n",
       "    <tr>\n",
       "      <th id=\"T_a88f0_level0_row0\" class=\"row_heading level0 row0\" >GADE no.</th>\n",
       "      <td id=\"T_a88f0_row0_col0\" class=\"data row0 col0\" >1.0</td>\n",
       "      <td id=\"T_a88f0_row0_col1\" class=\"data row0 col1\" >0.030747</td>\n",
       "      <td id=\"T_a88f0_row0_col2\" class=\"data row0 col2\" >-0.028366</td>\n",
       "      <td id=\"T_a88f0_row0_col3\" class=\"data row0 col3\" >0.65207</td>\n",
       "      <td id=\"T_a88f0_row0_col4\" class=\"data row0 col4\" >-0.36978</td>\n",
       "      <td id=\"T_a88f0_row0_col5\" class=\"data row0 col5\" >0.37214</td>\n",
       "    </tr>\n",
       "    <tr>\n",
       "      <th id=\"T_a88f0_level0_row1\" class=\"row_heading level0 row1\" >Hours</th>\n",
       "      <td id=\"T_a88f0_row1_col0\" class=\"data row1 col0\" >0.030747</td>\n",
       "      <td id=\"T_a88f0_row1_col1\" class=\"data row1 col1\" >1.0</td>\n",
       "      <td id=\"T_a88f0_row1_col2\" class=\"data row1 col2\" >-0.020858</td>\n",
       "      <td id=\"T_a88f0_row1_col3\" class=\"data row1 col3\" >0.012756</td>\n",
       "      <td id=\"T_a88f0_row1_col4\" class=\"data row1 col4\" >-0.03577</td>\n",
       "      <td id=\"T_a88f0_row1_col5\" class=\"data row1 col5\" >0.04905</td>\n",
       "    </tr>\n",
       "    <tr>\n",
       "      <th id=\"T_a88f0_level0_row2\" class=\"row_heading level0 row2\" >Age</th>\n",
       "      <td id=\"T_a88f0_row2_col0\" class=\"data row2 col0\" >-0.028366</td>\n",
       "      <td id=\"T_a88f0_row2_col1\" class=\"data row2 col1\" >-0.020858</td>\n",
       "      <td id=\"T_a88f0_row2_col2\" class=\"data row2 col2\" >1.0</td>\n",
       "      <td id=\"T_a88f0_row2_col3\" class=\"data row2 col3\" >-0.041471</td>\n",
       "      <td id=\"T_a88f0_row2_col4\" class=\"data row2 col4\" >0.006397</td>\n",
       "      <td id=\"T_a88f0_row2_col5\" class=\"data row2 col5\" >-0.10639</td>\n",
       "    </tr>\n",
       "    <tr>\n",
       "      <th id=\"T_a88f0_level0_row3\" class=\"row_heading level0 row3\" >GAD_T</th>\n",
       "      <td id=\"T_a88f0_row3_col0\" class=\"data row3 col0\" >0.65207</td>\n",
       "      <td id=\"T_a88f0_row3_col1\" class=\"data row3 col1\" >0.012756</td>\n",
       "      <td id=\"T_a88f0_row3_col2\" class=\"data row3 col2\" >-0.041471</td>\n",
       "      <td id=\"T_a88f0_row3_col3\" class=\"data row3 col3\" >1.0</td>\n",
       "      <td id=\"T_a88f0_row3_col4\" class=\"data row3 col4\" >-0.40327</td>\n",
       "      <td id=\"T_a88f0_row3_col5\" class=\"data row3 col5\" >0.45465</td>\n",
       "    </tr>\n",
       "    <tr>\n",
       "      <th id=\"T_a88f0_level0_row4\" class=\"row_heading level0 row4\" >SWL_T</th>\n",
       "      <td id=\"T_a88f0_row4_col0\" class=\"data row4 col0\" >-0.36978</td>\n",
       "      <td id=\"T_a88f0_row4_col1\" class=\"data row4 col1\" >-0.03577</td>\n",
       "      <td id=\"T_a88f0_row4_col2\" class=\"data row4 col2\" >0.006397</td>\n",
       "      <td id=\"T_a88f0_row4_col3\" class=\"data row4 col3\" >-0.40327</td>\n",
       "      <td id=\"T_a88f0_row4_col4\" class=\"data row4 col4\" >1.0</td>\n",
       "      <td id=\"T_a88f0_row4_col5\" class=\"data row4 col5\" >-0.31859</td>\n",
       "    </tr>\n",
       "    <tr>\n",
       "      <th id=\"T_a88f0_level0_row5\" class=\"row_heading level0 row5\" >SPIN_T</th>\n",
       "      <td id=\"T_a88f0_row5_col0\" class=\"data row5 col0\" >0.37214</td>\n",
       "      <td id=\"T_a88f0_row5_col1\" class=\"data row5 col1\" >0.04905</td>\n",
       "      <td id=\"T_a88f0_row5_col2\" class=\"data row5 col2\" >-0.10639</td>\n",
       "      <td id=\"T_a88f0_row5_col3\" class=\"data row5 col3\" >0.45465</td>\n",
       "      <td id=\"T_a88f0_row5_col4\" class=\"data row5 col4\" >-0.31859</td>\n",
       "      <td id=\"T_a88f0_row5_col5\" class=\"data row5 col5\" >1.0</td>\n",
       "    </tr>\n",
       "  </tbody>\n",
       "</table>\n"
      ],
      "text/plain": [
       "<pandas.io.formats.style.Styler at 0x271a0d16f80>"
      ]
     },
     "execution_count": 131,
     "metadata": {},
     "output_type": "execute_result"
    }
   ],
   "source": [
    "GamingStudy_2.corr(method='pearson').style.format(\"{:.5}\").background_gradient(cmap=plt.get_cmap('coolwarm'), axis=1)"
   ]
  },
  {
   "cell_type": "markdown",
   "id": "12ae173a",
   "metadata": {},
   "source": [
    "# sns.heatmap()"
   ]
  },
  {
   "cell_type": "code",
   "execution_count": 130,
   "id": "6a199f0a",
   "metadata": {},
   "outputs": [
    {
     "data": {
      "text/plain": [
       "<AxesSubplot:>"
      ]
     },
     "execution_count": 130,
     "metadata": {},
     "output_type": "execute_result"
    },
    {
     "data": {
      "image/png": "[encoded data removed]",
      "text/plain": [
       "<Figure size 432x288 with 2 Axes>"
      ]
     },
     "metadata": {
      "needs_background": "light"
     },
     "output_type": "display_data"
    }
   ],
   "source": [
    "sns.heatmap(GamingStudy_2.corr(), annot=True)"
   ]
  }
 ],
 "metadata": {
  "kernelspec": {
   "display_name": "Python 3 (ipykernel)",
   "language": "python",
   "name": "python3"
  },
  "language_info": {
   "codemirror_mode": {
    "name": "ipython",
    "version": 3
   },
   "file_extension": ".py",
   "mimetype": "text/x-python",
   "name": "python",
   "nbconvert_exporter": "python",
   "pygments_lexer": "ipython3",
   "version": "3.10.5"
  }
 },
 "nbformat": 4,
 "nbformat_minor": 5
}
